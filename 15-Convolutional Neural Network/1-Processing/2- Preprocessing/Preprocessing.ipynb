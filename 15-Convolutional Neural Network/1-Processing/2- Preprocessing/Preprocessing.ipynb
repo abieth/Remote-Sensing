{
 "cells": [
  {
   "cell_type": "code",
   "execution_count": 28,
   "id": "fc323b90-d290-4cbb-9512-7dd9afb84e5c",
   "metadata": {},
   "outputs": [],
   "source": [
    "import numpy as np\n",
    "import matplotlib.pyplot as plt\n",
    "import rasterio as rio\n",
    "from sklearn import svm\n",
    "from sklearn import preprocessing\n",
    "from sklearn.preprocessing import StandardScaler\n",
    "from sklearn.decomposition import PCA\n",
    "import numpy as np\n",
    "from pyrsgis import raster\n",
    "from pyrsgis import ml\n",
    "import random\n",
    "from copy import copy\n",
    "from itertools import cycle\n",
    "from osgeo import gdal"
   ]
  },
  {
   "cell_type": "code",
   "execution_count": 29,
   "id": "2acb7362-deed-418c-9b4f-4b629b64f8f9",
   "metadata": {},
   "outputs": [],
   "source": [
    "featurefile = r'E:/Sentinel2/Sistan_Sentinel.tif'"
   ]
  },
  {
   "cell_type": "code",
   "execution_count": 30,
   "id": "1e149f16-dada-4468-ac5e-254ed45b4528",
   "metadata": {},
   "outputs": [],
   "source": [
    "lablefile = r'E:/Sentinel2/Sistan_Sentinel_Training.tif'"
   ]
  },
  {
   "cell_type": "code",
   "execution_count": 31,
   "id": "76f14142-e122-4791-b15e-a9aeb5e989c7",
   "metadata": {},
   "outputs": [],
   "source": [
    "dsfeature , arrayfeature = raster.read(featurefile, bands = 'all')\n",
    "arrayfeature = arrayfeature.astype(float)"
   ]
  },
  {
   "cell_type": "code",
   "execution_count": 32,
   "id": "5058ba2c-5a40-44db-9b14-1d9a71f62e32",
   "metadata": {},
   "outputs": [
    {
     "name": "stdout",
     "output_type": "stream",
     "text": [
      "[[[2112. 2070. 2056. ... 2527. 2510. 2522.]\n",
      "  [2117. 2102. 2065. ... 2532. 2585. 2622.]\n",
      "  [2125. 2125. 2116. ... 2545. 2543. 2592.]\n",
      "  ...\n",
      "  [1397. 1411. 1417. ... 2112. 2095. 2083.]\n",
      "  [1454. 1442. 1470. ... 2085. 2096. 2086.]\n",
      "  [1574. 1491. 1475. ... 2088. 2097. 2104.]]\n",
      "\n",
      " [[2308. 2288. 2270. ... 2888. 2868. 2850.]\n",
      "  [2345. 2294. 2290. ... 2887. 2938. 2968.]\n",
      "  [2352. 2349. 2333. ... 2915. 2913. 2962.]\n",
      "  ...\n",
      "  [1381. 1387. 1412. ... 2364. 2349. 2335.]\n",
      "  [1437. 1456. 1471. ... 2357. 2343. 2342.]\n",
      "  [1582. 1499. 1500. ... 2351. 2356. 2338.]]\n",
      "\n",
      " [[2745. 2711. 2721. ... 3568. 3536. 3547.]\n",
      "  [2752. 2719. 2746. ... 3549. 3563. 3636.]\n",
      "  [2796. 2756. 2762. ... 3549. 3587. 3665.]\n",
      "  ...\n",
      "  [1482. 1521. 1555. ... 2882. 2837. 2836.]\n",
      "  [1582. 1607. 1599. ... 2869. 2869. 2847.]\n",
      "  [1805. 1649. 1637. ... 2858. 2853. 2830.]]\n",
      "\n",
      " ...\n",
      "\n",
      " [[3002. 3002. 2976. ... 3866. 3931. 3931.]\n",
      "  [3002. 3002. 2976. ... 3866. 3931. 3931.]\n",
      "  [2941. 2941. 2920. ... 3919. 3909. 3909.]\n",
      "  ...\n",
      "  [1723. 1723. 1680. ... 3024. 3012. 3012.]\n",
      "  [1768. 1768. 1720. ... 3078. 3019. 3019.]\n",
      "  [1768. 1768. 1720. ... 3078. 3019. 3019.]]\n",
      "\n",
      " [[4069. 4069. 4082. ... 4989. 4990. 4990.]\n",
      "  [4069. 4069. 4082. ... 4989. 4990. 4990.]\n",
      "  [4017. 4017. 3995. ... 5054. 4962. 4962.]\n",
      "  ...\n",
      "  [2441. 2441. 2423. ... 4303. 4290. 4290.]\n",
      "  [2542. 2542. 2518. ... 4320. 4304. 4304.]\n",
      "  [2542. 2542. 2518. ... 4320. 4304. 4304.]]\n",
      "\n",
      " [[3563. 3563. 3603. ... 4314. 4350. 4350.]\n",
      "  [3563. 3563. 3603. ... 4314. 4350. 4350.]\n",
      "  [3537. 3537. 3539. ... 4419. 4323. 4323.]\n",
      "  ...\n",
      "  [2211. 2211. 2172. ... 3731. 3690. 3690.]\n",
      "  [2262. 2262. 2252. ... 3778. 3720. 3720.]\n",
      "  [2262. 2262. 2252. ... 3778. 3720. 3720.]]]\n"
     ]
    }
   ],
   "source": [
    "print(arrayfeature)"
   ]
  },
  {
   "cell_type": "code",
   "execution_count": 33,
   "id": "4bd101e8-207d-4eb8-a635-26fd614f4c82",
   "metadata": {},
   "outputs": [
    {
     "data": {
      "text/plain": [
       "(10, 866, 770)"
      ]
     },
     "execution_count": 33,
     "metadata": {},
     "output_type": "execute_result"
    }
   ],
   "source": [
    "arrayfeature.shape"
   ]
  },
  {
   "cell_type": "code",
   "execution_count": 34,
   "id": "8fa6dce4-1203-4c1b-8886-f3e435398bfb",
   "metadata": {},
   "outputs": [],
   "source": [
    "for i in range(arrayfeature.shape[0]):\n",
    " minb = arrayfeature [i][:][:].min()\n",
    " maxb = arrayfeature [i][:][:].max()\n",
    " rangeb = maxb - minb\n",
    " for j in range(arrayfeature.shape[1]):\n",
    "    for k in range(arrayfeature.shape[2]):\n",
    "        arrayfeature[i][j][k] = (arrayfeature[i][j][k] - minb)/rangeb"
   ]
  },
  {
   "cell_type": "code",
   "execution_count": 35,
   "id": "a0a26d61-62d9-490e-862c-17d68685dc63",
   "metadata": {},
   "outputs": [
    {
     "name": "stdout",
     "output_type": "stream",
     "text": [
      "[[[0.46893975 0.44932275 0.44278375 ... 0.6627744  0.65483419 0.66043905]\n",
      "  [0.47127511 0.46426903 0.44698739 ... 0.66510976 0.68986455 0.70714619]\n",
      "  [0.47501168 0.47501168 0.47080803 ... 0.67118169 0.67024755 0.69313405]\n",
      "  ...\n",
      "  [0.13498365 0.14152265 0.14432508 ... 0.46893975 0.46099953 0.45539468]\n",
      "  [0.16160673 0.15600187 0.16907987 ... 0.45632882 0.4614666  0.45679589]\n",
      "  [0.2176553  0.17888837 0.17141523 ... 0.45773003 0.46193368 0.46520318]]\n",
      "\n",
      " [[0.48655617 0.47918969 0.47255985 ... 0.70018416 0.69281768 0.68618785]\n",
      "  [0.50018416 0.48139963 0.47992634 ... 0.69981584 0.71860037 0.72965009]\n",
      "  [0.50276243 0.50165746 0.49576427 ... 0.71012891 0.70939227 0.72744015]\n",
      "  ...\n",
      "  [0.14511971 0.14732965 0.15653775 ... 0.50718232 0.50165746 0.49650092]\n",
      "  [0.16574586 0.17274401 0.17826888 ... 0.50460405 0.49944751 0.49907919]\n",
      "  [0.21915285 0.18858195 0.18895028 ... 0.50239411 0.50423573 0.49760589]]\n",
      "\n",
      " [[0.49627721 0.48654066 0.48940435 ... 0.73195876 0.72279496 0.72594502]\n",
      "  [0.49828179 0.48883162 0.49656357 ... 0.72651775 0.73052692 0.75143184]\n",
      "  [0.51088202 0.49942726 0.50114548 ... 0.72651775 0.73739977 0.75973654]\n",
      "  ...\n",
      "  [0.13459336 0.14576174 0.15549828 ... 0.53550974 0.52262314 0.52233677]\n",
      "  [0.16323024 0.17038946 0.16809851 ... 0.53178694 0.53178694 0.52548683]\n",
      "  [0.22709049 0.18241695 0.17898053 ... 0.52863688 0.52720504 0.52061856]]\n",
      "\n",
      " ...\n",
      "\n",
      " [[0.48784825 0.48784825 0.48014226 ... 0.74392413 0.76318909 0.76318909]\n",
      "  [0.48784825 0.48784825 0.48014226 ... 0.74392413 0.76318909 0.76318909]\n",
      "  [0.46976882 0.46976882 0.46354475 ... 0.75963248 0.75666864 0.75666864]\n",
      "  ...\n",
      "  [0.10877297 0.10877297 0.09602845 ... 0.4943687  0.49081209 0.49081209]\n",
      "  [0.12211025 0.12211025 0.10788382 ... 0.51037344 0.49288678 0.49288678]\n",
      "  [0.12211025 0.12211025 0.10788382 ... 0.51037344 0.49288678 0.49288678]]\n",
      "\n",
      " [[0.56204874 0.56204874 0.56498195 ... 0.76962996 0.7698556  0.7698556 ]\n",
      "  [0.56204874 0.56204874 0.56498195 ... 0.76962996 0.7698556  0.7698556 ]\n",
      "  [0.55031588 0.55031588 0.54535199 ... 0.78429603 0.76353791 0.76353791]\n",
      "  ...\n",
      "  [0.19472022 0.19472022 0.19065884 ... 0.61484657 0.61191336 0.61191336]\n",
      "  [0.21750903 0.21750903 0.21209386 ... 0.61868231 0.6150722  0.6150722 ]\n",
      "  [0.21750903 0.21750903 0.21209386 ... 0.61868231 0.6150722  0.6150722 ]]\n",
      "\n",
      " [[0.58125168 0.58125168 0.5919957  ... 0.78297072 0.79264034 0.79264034]\n",
      "  [0.58125168 0.58125168 0.5919957  ... 0.78297072 0.79264034 0.79264034]\n",
      "  [0.57426806 0.57426806 0.57480526 ... 0.81117378 0.78538813 0.78538813]\n",
      "  ...\n",
      "  [0.21810368 0.21810368 0.20762826 ... 0.62637658 0.61536395 0.61536395]\n",
      "  [0.23180231 0.23180231 0.2291163  ... 0.63900081 0.62342197 0.62342197]\n",
      "  [0.23180231 0.23180231 0.2291163  ... 0.63900081 0.62342197 0.62342197]]]\n"
     ]
    }
   ],
   "source": [
    "print(arrayfeature)"
   ]
  },
  {
   "cell_type": "code",
   "execution_count": 36,
   "id": "79136187-fffa-40d7-880f-536312f3011d",
   "metadata": {},
   "outputs": [
    {
     "name": "stdout",
     "output_type": "stream",
     "text": [
      "(10, 866, 770)\n"
     ]
    }
   ],
   "source": [
    "print (arrayfeature.shape)"
   ]
  },
  {
   "cell_type": "code",
   "execution_count": 44,
   "id": "841cf140-b84e-4827-b8ee-fbf992975188",
   "metadata": {},
   "outputs": [],
   "source": [
    "features = ml.array_to_chips(arrayfeature, y_size=7, x_size=7)"
   ]
  },
  {
   "cell_type": "code",
   "execution_count": 46,
   "id": "2bfe72da-8898-49c9-a866-8b10a35aa9b7",
   "metadata": {},
   "outputs": [
    {
     "data": {
      "text/plain": [
       "(666820, 7, 7, 10)"
      ]
     },
     "execution_count": 46,
     "metadata": {},
     "output_type": "execute_result"
    }
   ],
   "source": [
    "features.shape"
   ]
  },
  {
   "cell_type": "code",
   "execution_count": 47,
   "id": "cc2ba11d-f7a0-4555-9f40-cedf081244f3",
   "metadata": {},
   "outputs": [],
   "source": [
    "dslable, arraylable = raster.read(lablefile)"
   ]
  },
  {
   "cell_type": "code",
   "execution_count": 50,
   "id": "360e2404-7e95-4480-a201-7104f00b8189",
   "metadata": {},
   "outputs": [
    {
     "data": {
      "text/plain": [
       "array([  0,   1,   2,   3,   4,   5,   6,   7,   8,   9, 255], dtype=uint8)"
      ]
     },
     "execution_count": 50,
     "metadata": {},
     "output_type": "execute_result"
    }
   ],
   "source": [
    "np.unique(arraylable)"
   ]
  },
  {
   "cell_type": "code",
   "execution_count": 51,
   "id": "8fa5cbaa-3db4-4a0f-9ebd-f262d1c58bb6",
   "metadata": {},
   "outputs": [],
   "source": [
    "arraylable[arraylable==255]=0"
   ]
  },
  {
   "cell_type": "code",
   "execution_count": 52,
   "id": "a2d66ef0-9bb6-4b2b-8c8d-b3c2862a6752",
   "metadata": {},
   "outputs": [
    {
     "data": {
      "text/plain": [
       "array([0, 1, 2, 3, 4, 5, 6, 7, 8, 9], dtype=uint8)"
      ]
     },
     "execution_count": 52,
     "metadata": {},
     "output_type": "execute_result"
    }
   ],
   "source": [
    "np.unique(arraylable)"
   ]
  },
  {
   "cell_type": "code",
   "execution_count": 53,
   "id": "719dd7c2-dad8-4c60-8536-6fe61e70280b",
   "metadata": {},
   "outputs": [],
   "source": [
    "arraylable = arraylable.flatten()"
   ]
  },
  {
   "cell_type": "code",
   "execution_count": 54,
   "id": "e7ff7bae-b7a0-4477-8ee8-de332c09ed31",
   "metadata": {},
   "outputs": [
    {
     "data": {
      "text/plain": [
       "(666820,)"
      ]
     },
     "execution_count": 54,
     "metadata": {},
     "output_type": "execute_result"
    }
   ],
   "source": [
    "arraylable.shape"
   ]
  },
  {
   "cell_type": "code",
   "execution_count": 57,
   "id": "507f84e6-19ef-41be-8eb9-050b65e01e06",
   "metadata": {},
   "outputs": [],
   "source": [
    "features = features[arraylable != 0]\n",
    "lable = arraylable[arraylable != 0]"
   ]
  },
  {
   "cell_type": "code",
   "execution_count": 58,
   "id": "95315604-c987-4c9e-bfe9-6ca8105e4eb4",
   "metadata": {},
   "outputs": [
    {
     "data": {
      "text/plain": [
       "array([1, 2, 3, 4, 5, 6, 7, 8, 9], dtype=uint8)"
      ]
     },
     "execution_count": 58,
     "metadata": {},
     "output_type": "execute_result"
    }
   ],
   "source": [
    "np.unique(lable)"
   ]
  },
  {
   "cell_type": "code",
   "execution_count": null,
   "id": "a1b6206d-f88a-4ad1-81f5-7c95d26dc15c",
   "metadata": {},
   "outputs": [],
   "source": []
  }
 ],
 "metadata": {
  "kernelspec": {
   "display_name": "Python 3 (ipykernel)",
   "language": "python",
   "name": "python3"
  },
  "language_info": {
   "codemirror_mode": {
    "name": "ipython",
    "version": 3
   },
   "file_extension": ".py",
   "mimetype": "text/x-python",
   "name": "python",
   "nbconvert_exporter": "python",
   "pygments_lexer": "ipython3",
   "version": "3.9.7"
  }
 },
 "nbformat": 4,
 "nbformat_minor": 5
}
